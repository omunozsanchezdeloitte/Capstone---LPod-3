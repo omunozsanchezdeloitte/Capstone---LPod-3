{
 "cells": [
  {
   "attachments": {},
   "cell_type": "markdown",
   "metadata": {},
   "source": [
    "# **Capstone Project**\n",
    "\n",
    "## Introduction\n",
    "The Purpose of this notebook is to provide 3 business recomendations backed by data analysis.\n",
    "Each of our suggestions will have code associated with them. \n",
    "\n",
    "This code will demonstrate:\n",
    "* How we accessed the data.\n",
    "* How we cleaned the data.\n",
    "* How we filtered the data. \n",
    "* How we visualized the data.\n",
    "\n",
    "These steps allowed us to confidently arrive at 3 strong business reccomendations for our client, **Computing Vision**\n",
    "\n",
    "\n"
   ]
  },
  {
   "attachments": {},
   "cell_type": "markdown",
   "metadata": {},
   "source": [
    "## Importing Required Libraries\n",
    "\n",
    "Before we can analyze our chosen data bases, we must first import the libraries that will enable us to do so."
   ]
  },
  {
   "cell_type": "code",
   "execution_count": null,
   "metadata": {},
   "outputs": [],
   "source": [
    "import pandas as pd\n",
    "import numpy as np\n",
    "import matplotlib.pyplot as plt\n"
   ]
  },
  {
   "cell_type": "code",
   "execution_count": null,
   "metadata": {},
   "outputs": [],
   "source": []
  }
 ],
 "metadata": {
  "kernelspec": {
   "display_name": "Python (learn-env)",
   "language": "python",
   "name": "learn-env"
  },
  "language_info": {
   "codemirror_mode": {
    "name": "ipython",
    "version": 3
   },
   "file_extension": ".py",
   "mimetype": "text/x-python",
   "name": "python",
   "nbconvert_exporter": "python",
   "pygments_lexer": "ipython3",
   "version": "3.8.5"
  }
 },
 "nbformat": 4,
 "nbformat_minor": 4
}
