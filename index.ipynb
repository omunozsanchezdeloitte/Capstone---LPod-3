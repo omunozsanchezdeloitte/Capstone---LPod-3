{
 "cells": [
  {
   "cell_type": "code",
   "execution_count": 1,
   "metadata": {},
   "outputs": [
    {
     "name": "stdout",
     "output_type": "stream",
     "text": [
      "       Unnamed: 0            genre_ids      id original_language  \\\n",
      "0               0      [12, 14, 10751]   12444                en   \n",
      "1               1  [14, 12, 16, 10751]   10191                en   \n",
      "2               2        [12, 28, 878]   10138                en   \n",
      "3               3      [16, 35, 10751]     862                en   \n",
      "4               4        [28, 878, 12]   27205                en   \n",
      "...           ...                  ...     ...               ...   \n",
      "26512       26512             [27, 18]  488143                en   \n",
      "26513       26513             [18, 53]  485975                en   \n",
      "26514       26514         [14, 28, 12]  381231                en   \n",
      "26515       26515      [10751, 12, 28]  366854                en   \n",
      "26516       26516             [53, 27]  309885                en   \n",
      "\n",
      "                                     original_title  popularity release_date  \\\n",
      "0      Harry Potter and the Deathly Hallows: Part 1      33.533   2010-11-19   \n",
      "1                          How to Train Your Dragon      28.734   2010-03-26   \n",
      "2                                        Iron Man 2      28.515   2010-05-07   \n",
      "3                                         Toy Story      28.005   1995-11-22   \n",
      "4                                         Inception      27.920   2010-07-16   \n",
      "...                                             ...         ...          ...   \n",
      "26512                         Laboratory Conditions       0.600   2018-10-13   \n",
      "26513                               _EXHIBIT_84xxx_       0.600   2018-05-01   \n",
      "26514                                  The Last One       0.600   2018-10-01   \n",
      "26515                                  Trailer Made       0.600   2018-06-22   \n",
      "26516                                    The Church       0.600   2018-10-05   \n",
      "\n",
      "                                              title  vote_average  vote_count  \n",
      "0      Harry Potter and the Deathly Hallows: Part 1           7.7       10788  \n",
      "1                          How to Train Your Dragon           7.7        7610  \n",
      "2                                        Iron Man 2           6.8       12368  \n",
      "3                                         Toy Story           7.9       10174  \n",
      "4                                         Inception           8.3       22186  \n",
      "...                                             ...           ...         ...  \n",
      "26512                         Laboratory Conditions           0.0           1  \n",
      "26513                               _EXHIBIT_84xxx_           0.0           1  \n",
      "26514                                  The Last One           0.0           1  \n",
      "26515                                  Trailer Made           0.0           1  \n",
      "26516                                    The Church           0.0           1  \n",
      "\n",
      "[26517 rows x 10 columns]\n"
     ]
    }
   ],
   "source": [
    "import pandas as pd\n",
    "\n",
    "df = pd.read_csv(r'zippedData\\tmdb.movies.csv.gz')\n",
    "print(df)"
   ]
  },
  {
   "cell_type": "code",
   "execution_count": null,
   "metadata": {},
   "outputs": [],
   "source": []
  }
 ],
 "metadata": {
  "kernelspec": {
   "display_name": "Python (learn-env)",
   "language": "python",
   "name": "learn-env"
  },
  "language_info": {
   "codemirror_mode": {
    "name": "ipython",
    "version": 3
   },
   "file_extension": ".py",
   "mimetype": "text/x-python",
   "name": "python",
   "nbconvert_exporter": "python",
   "pygments_lexer": "ipython3",
   "version": "3.8.5"
  }
 },
 "nbformat": 4,
 "nbformat_minor": 4
}
